{
 "cells": [
  {
   "cell_type": "code",
   "execution_count": 2,
   "id": "f9f47c81-2137-4360-8e0f-5b904d91c425",
   "metadata": {},
   "outputs": [],
   "source": [
    "import numpy as np\n",
    "import pandas as pd\n",
    "\n",
    "import tensorflow as tf\n",
    "from tensorflow.keras import layers\n",
    "\n",
    "from sklearn.preprocessing import StandardScaler, MinMaxScaler, OrdinalEncoder\n",
    "from sklearn.compose import make_column_transformer\n",
    "from sklearn.model_selection import train_test_split\n",
    "from sklearn.linear_model import LogisticRegression\n",
    "from sklearn.svm import SVC\n",
    "\n",
    "from MembershipInferenceTest.estimators_bin_skl import ShadowModelBundle, AttackModelBundle, prepare_attack_data"
   ]
  },
  {
   "cell_type": "code",
   "execution_count": 4,
   "id": "e38f537d-118f-486f-bb8f-cc0202eb1791",
   "metadata": {},
   "outputs": [],
   "source": [
    "NUM_CLASSES = 2\n",
    "WIDTH = 32\n",
    "HEIGHT = 32\n",
    "CHANNELS = 3\n",
    "SHADOW_DATASET_SIZE = 200\n",
    "ATTACK_TEST_DATASET_SIZE = 200"
   ]
  },
  {
   "cell_type": "code",
   "execution_count": 5,
   "id": "9918b477-37b8-4614-ba36-651123f1d10b",
   "metadata": {},
   "outputs": [],
   "source": [
    "target_epochs = 12\n",
    "attack_epochs = 5\n",
    "num_shadows = 10"
   ]
  },
  {
   "cell_type": "code",
   "execution_count": 6,
   "id": "d78eac0d-15fe-4b2e-92ec-71232a4c9d29",
   "metadata": {},
   "outputs": [],
   "source": [
    "def get_data():\n",
    "    data = pd.read_csv(\"./data/advertising.csv\")\n",
    "    \n",
    "    X = data.drop(['Timestamp', 'Clicked on Ad', 'Ad Topic Line', 'Country', 'City'], axis=1)\n",
    "    y = data['Clicked on Ad']\n",
    "\n",
    "    X_train, X_test, y_train, y_test = train_test_split(X, y, test_size=0.8, random_state=42)\n",
    "\n",
    "    num_columns = ['Daily Time Spent on Site', 'Age', 'Area Income', 'Daily Internet Usage', 'Male']\n",
    "\n",
    "\n",
    "    ct = make_column_transformer(\n",
    "        (MinMaxScaler(), num_columns),\n",
    "        (StandardScaler(), num_columns),\n",
    "        remainder='passthrough'\n",
    "    )\n",
    "\n",
    "    X_train = ct.fit_transform(X_train)\n",
    "    X_test = ct.transform(X_test)\n",
    "    \n",
    "    y_train = y_train.to_numpy()\n",
    "    y_test = y_test.to_numpy()\n",
    "    \n",
    "    return (X_train, y_train), (X_test, y_test)"
   ]
  },
  {
   "cell_type": "code",
   "execution_count": 7,
   "id": "d0ba644e-d66d-4461-a87e-d8217dde626b",
   "metadata": {},
   "outputs": [],
   "source": [
    "def target_LG():\n",
    "    \"\"\"The architecture of the target (victim) model.\n",
    "    The attack is white-box, hence the attacker is assumed to know this architecture too.\"\"\"\n",
    "\n",
    "    model = LogisticRegression()\n",
    "\n",
    "    return model"
   ]
  },
  {
   "cell_type": "code",
   "execution_count": 8,
   "id": "24b77e5a-e767-472a-ae52-572f473635d3",
   "metadata": {},
   "outputs": [],
   "source": [
    "def target_SVC():\n",
    "    \"\"\"The architecture of the target (victim) model.\n",
    "    The attack is white-box, hence the attacker is assumed to know this architecture too.\"\"\"\n",
    "\n",
    "    model = SVC(probability=True)\n",
    "    \n",
    "    return model"
   ]
  },
  {
   "cell_type": "code",
   "execution_count": 9,
   "id": "2f473fe7-cd6d-4dcf-848c-576b2c3d7f96",
   "metadata": {},
   "outputs": [],
   "source": [
    "def attack_model_fn():\n",
    "    \"\"\"Attack model that takes target model predictions and predicts membership.\n",
    "    Following the original paper, this attack model is specific to the class of the input.\n",
    "    AttachModelBundle creates multiple instances of this model for each class.\n",
    "    \"\"\"\n",
    "    model = tf.keras.models.Sequential()\n",
    "\n",
    "    model.add(layers.Dense(128, activation=\"relu\", input_shape=(NUM_CLASSES,)))\n",
    "\n",
    "    model.add(layers.Dropout(0.3, noise_shape=None, seed=None))\n",
    "    model.add(layers.Dense(64, activation=\"relu\"))\n",
    "    model.add(layers.Dropout(0.2, noise_shape=None, seed=None))\n",
    "    model.add(layers.Dense(64, activation=\"relu\"))\n",
    "\n",
    "    model.add(layers.Dense(1, activation=\"sigmoid\"))\n",
    "    model.compile(\"adam\", loss=\"binary_crossentropy\", metrics=[\"accuracy\"])\n",
    "    return model"
   ]
  },
  {
   "cell_type": "code",
   "execution_count": 10,
   "id": "4b6a3a03-5faa-4249-91dd-f293ba14609d",
   "metadata": {},
   "outputs": [],
   "source": [
    "def demo():\n",
    "    (X_train, y_train), (X_test, y_test) = get_data()\n",
    "\n",
    "    # Train the target model.\n",
    "    print(\"Training the target model...\")\n",
    "    target_model = target_SVC()\n",
    "    target_model.fit(X_train, y_train)\n",
    "\n",
    "    # Train the shadow models.\n",
    "    smb = ShadowModelBundle(\n",
    "        target_SVC,\n",
    "        shadow_dataset_size=SHADOW_DATASET_SIZE,\n",
    "        num_models=num_shadows,\n",
    "    )\n",
    "\n",
    "    # We assume that attacker's data were not seen in target's training.\n",
    "    attacker_X_train, attacker_X_test, attacker_y_train, attacker_y_test = train_test_split(\n",
    "        X_test, y_test, test_size=0.1\n",
    "    )\n",
    "    print(attacker_X_train.shape, attacker_X_test.shape)\n",
    "\n",
    "    print(\"Training the shadow models...\")\n",
    "    X_shadow, y_shadow = smb.fit_transform(\n",
    "        attacker_X_train,\n",
    "        attacker_y_train,\n",
    "        fit_kwargs=dict(\n",
    "            epochs=target_epochs,\n",
    "            verbose=True,\n",
    "            validation_data=(attacker_X_test, attacker_y_test),\n",
    "        ),\n",
    "    )\n",
    "\n",
    "    # ShadowModelBundle returns data in the format suitable for the AttackModelBundle.\n",
    "    amb = AttackModelBundle(attack_model_fn, num_classes=NUM_CLASSES)\n",
    "\n",
    "    # Fit the attack models.\n",
    "    print(\"Training the attack models...\")\n",
    "    amb.fit(\n",
    "        X_shadow, y_shadow, fit_kwargs=dict(epochs=attack_epochs, verbose=True)\n",
    "    )\n",
    "\n",
    "    # Test the success of the attack.\n",
    "\n",
    "    # Prepare examples that were in the training, and out of the training.\n",
    "    data_in = X_train[:ATTACK_TEST_DATASET_SIZE], y_train[:ATTACK_TEST_DATASET_SIZE]\n",
    "    data_out = X_test[:ATTACK_TEST_DATASET_SIZE], y_test[:ATTACK_TEST_DATASET_SIZE]\n",
    "\n",
    "    # Compile them into the expected format for the AttackModelBundle.\n",
    "    attack_test_data, real_membership_labels = prepare_attack_data(\n",
    "        target_model, data_in, data_out\n",
    "    )\n",
    "    \n",
    "    # Compute the attack accuracy.\n",
    "    attack_guesses = amb.predict(attack_test_data)\n",
    "    attack_accuracy = np.mean(attack_guesses == real_membership_labels)\n",
    "\n",
    "    print(attack_accuracy)"
   ]
  },
  {
   "cell_type": "code",
   "execution_count": 11,
   "id": "4679796d-a657-4a6c-ba07-a5026b97d1f1",
   "metadata": {},
   "outputs": [
    {
     "name": "stdout",
     "output_type": "stream",
     "text": [
      "Training the target model...\n",
      "(720, 10) (80, 10)\n",
      "Training the shadow models...\n",
      "Training the attack models...\n",
      "Epoch 1/5\n",
      "63/63 [==============================] - 9s 5ms/step - loss: 0.6937 - accuracy: 0.4998\n",
      "Epoch 2/5\n",
      "63/63 [==============================] - 0s 4ms/step - loss: 0.6937 - accuracy: 0.5042\n",
      "Epoch 3/5\n",
      "63/63 [==============================] - 0s 4ms/step - loss: 0.6932 - accuracy: 0.4963\n",
      "Epoch 4/5\n",
      "63/63 [==============================] - 0s 4ms/step - loss: 0.6928 - accuracy: 0.5077\n",
      "Epoch 5/5\n",
      "63/63 [==============================] - 0s 4ms/step - loss: 0.6934 - accuracy: 0.5146\n",
      "Epoch 1/5\n",
      "63/63 [==============================] - 1s 5ms/step - loss: 0.6940 - accuracy: 0.5144\n",
      "Epoch 2/5\n",
      "63/63 [==============================] - 0s 4ms/step - loss: 0.6933 - accuracy: 0.5214\n",
      "Epoch 3/5\n",
      "63/63 [==============================] - 0s 4ms/step - loss: 0.6927 - accuracy: 0.5038\n",
      "Epoch 4/5\n",
      "63/63 [==============================] - 0s 4ms/step - loss: 0.6937 - accuracy: 0.5254\n",
      "Epoch 5/5\n",
      "63/63 [==============================] - 0s 4ms/step - loss: 0.6925 - accuracy: 0.5149\n",
      "0.5775\n"
     ]
    }
   ],
   "source": [
    "demo()"
   ]
  }
 ],
 "metadata": {
  "kernelspec": {
   "display_name": "Python 3 (ipykernel)",
   "language": "python",
   "name": "python3"
  },
  "language_info": {
   "codemirror_mode": {
    "name": "ipython",
    "version": 3
   },
   "file_extension": ".py",
   "mimetype": "text/x-python",
   "name": "python",
   "nbconvert_exporter": "python",
   "pygments_lexer": "ipython3",
   "version": "3.8.8"
  }
 },
 "nbformat": 4,
 "nbformat_minor": 5
}
