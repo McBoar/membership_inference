{
 "cells": [
  {
   "cell_type": "code",
   "execution_count": 1,
   "id": "a25a6865-fad0-4f2b-996e-ec49acce4c09",
   "metadata": {},
   "outputs": [],
   "source": [
    "import pandas as pd\n",
    "import numpy as np\n",
    "import scipy\n",
    "from sklearn.model_selection import train_test_split\n",
    "from sklearn import tree\n",
    "from sklearn import metrics"
   ]
  },
  {
   "cell_type": "code",
   "execution_count": 2,
   "id": "3b32dbfe-e78d-48e6-9f49-221992557dc5",
   "metadata": {},
   "outputs": [],
   "source": [
    "dataset = np.load('train_dataset.npz')"
   ]
  },
  {
   "cell_type": "code",
   "execution_count": 3,
   "id": "11c5b3d5-a7df-4fed-9edb-28f145a013a3",
   "metadata": {},
   "outputs": [],
   "source": [
    "X, y = dataset['arr_0'], dataset['arr_1']\n",
    "X_train, X_test, y_train, y_test = train_test_split(X, y, test_size=0.5, shuffle=True)"
   ]
  },
  {
   "cell_type": "code",
   "execution_count": 4,
   "id": "06521348-30e5-4f3b-85c3-51f284eb7fcc",
   "metadata": {},
   "outputs": [],
   "source": [
    "X_train = pd.DataFrame(X_train)\n",
    "y_train = pd.DataFrame(y_train)\n",
    "X_test = pd.DataFrame(X_test)\n",
    "y_test = pd.DataFrame(y_test)"
   ]
  },
  {
   "cell_type": "code",
   "execution_count": 5,
   "id": "4b602b89-699b-4b81-98fb-26f6f8c9f0c6",
   "metadata": {},
   "outputs": [],
   "source": [
    "tree_clf = tree.DecisionTreeClassifier(max_depth=10)"
   ]
  },
  {
   "cell_type": "code",
   "execution_count": 6,
   "id": "59024aab-0544-4a91-974a-edf71c946b83",
   "metadata": {},
   "outputs": [],
   "source": [
    "fit_tree = tree_clf.fit(X_train, y_train)"
   ]
  },
  {
   "cell_type": "code",
   "execution_count": 7,
   "id": "6715d6f3-6713-4a64-989a-740d6feae194",
   "metadata": {},
   "outputs": [],
   "source": [
    "pred_Tr = fit_tree.predict(X_train)\n",
    "probsTr = fit_tree.predict_proba(X_train)\n",
    "pred_p_Tr = probsTr[:,1]"
   ]
  },
  {
   "cell_type": "code",
   "execution_count": 8,
   "id": "59d2ac75-1be9-465d-b8d1-dc315b89e2e7",
   "metadata": {},
   "outputs": [
    {
     "data": {
      "text/html": [
       "<div>\n",
       "<style scoped>\n",
       "    .dataframe tbody tr th:only-of-type {\n",
       "        vertical-align: middle;\n",
       "    }\n",
       "\n",
       "    .dataframe tbody tr th {\n",
       "        vertical-align: top;\n",
       "    }\n",
       "\n",
       "    .dataframe thead th {\n",
       "        text-align: right;\n",
       "    }\n",
       "</style>\n",
       "<table border=\"1\" class=\"dataframe\">\n",
       "  <thead>\n",
       "    <tr style=\"text-align: right;\">\n",
       "      <th></th>\n",
       "      <th>0</th>\n",
       "      <th>target</th>\n",
       "    </tr>\n",
       "  </thead>\n",
       "  <tbody>\n",
       "    <tr>\n",
       "      <th>0</th>\n",
       "      <td>0.464441</td>\n",
       "      <td>1</td>\n",
       "    </tr>\n",
       "    <tr>\n",
       "      <th>1</th>\n",
       "      <td>0.514719</td>\n",
       "      <td>1</td>\n",
       "    </tr>\n",
       "    <tr>\n",
       "      <th>2</th>\n",
       "      <td>0.501776</td>\n",
       "      <td>1</td>\n",
       "    </tr>\n",
       "    <tr>\n",
       "      <th>3</th>\n",
       "      <td>0.501776</td>\n",
       "      <td>1</td>\n",
       "    </tr>\n",
       "    <tr>\n",
       "      <th>4</th>\n",
       "      <td>0.458171</td>\n",
       "      <td>1</td>\n",
       "    </tr>\n",
       "    <tr>\n",
       "      <th>...</th>\n",
       "      <td>...</td>\n",
       "      <td>...</td>\n",
       "    </tr>\n",
       "    <tr>\n",
       "      <th>68635</th>\n",
       "      <td>0.501776</td>\n",
       "      <td>1</td>\n",
       "    </tr>\n",
       "    <tr>\n",
       "      <th>68636</th>\n",
       "      <td>0.514719</td>\n",
       "      <td>1</td>\n",
       "    </tr>\n",
       "    <tr>\n",
       "      <th>68637</th>\n",
       "      <td>0.514719</td>\n",
       "      <td>1</td>\n",
       "    </tr>\n",
       "    <tr>\n",
       "      <th>68638</th>\n",
       "      <td>0.514719</td>\n",
       "      <td>1</td>\n",
       "    </tr>\n",
       "    <tr>\n",
       "      <th>68639</th>\n",
       "      <td>0.320312</td>\n",
       "      <td>1</td>\n",
       "    </tr>\n",
       "  </tbody>\n",
       "</table>\n",
       "<p>68640 rows × 2 columns</p>\n",
       "</div>"
      ],
      "text/plain": [
       "              0  target\n",
       "0      0.464441       1\n",
       "1      0.514719       1\n",
       "2      0.501776       1\n",
       "3      0.501776       1\n",
       "4      0.458171       1\n",
       "...         ...     ...\n",
       "68635  0.501776       1\n",
       "68636  0.514719       1\n",
       "68637  0.514719       1\n",
       "68638  0.514719       1\n",
       "68639  0.320312       1\n",
       "\n",
       "[68640 rows x 2 columns]"
      ]
     },
     "execution_count": 8,
     "metadata": {},
     "output_type": "execute_result"
    }
   ],
   "source": [
    "attack_dataset_tr = pd.DataFrame(pred_p_Tr)\n",
    "attack_dataset_tr['target'] = 1\n",
    "attack_dataset_tr"
   ]
  },
  {
   "cell_type": "code",
   "execution_count": 9,
   "id": "a7c2fb2c-9cef-41bd-a004-7ce02b7b6b6b",
   "metadata": {},
   "outputs": [
    {
     "data": {
      "text/plain": [
       "0.5592831194136187"
      ]
     },
     "execution_count": 9,
     "metadata": {},
     "output_type": "execute_result"
    }
   ],
   "source": [
    "fpr, tpr, threshold = metrics.roc_curve(y_train, pred_p_Tr)\n",
    "roc_auc = metrics.auc(fpr, tpr)\n",
    "roc_auc"
   ]
  },
  {
   "cell_type": "code",
   "execution_count": 10,
   "id": "cb278035-4e04-46c5-8ddb-429808bed09d",
   "metadata": {},
   "outputs": [],
   "source": [
    "pred_Tr = fit_tree.predict(X_test)\n",
    "probsTr = fit_tree.predict_proba(X_test)\n",
    "pred_p_Tr = probsTr[:,1]"
   ]
  },
  {
   "cell_type": "code",
   "execution_count": 11,
   "id": "f5f2f1b6-55d2-44b6-ba33-5cce76b7ce81",
   "metadata": {},
   "outputs": [
    {
     "data": {
      "text/html": [
       "<div>\n",
       "<style scoped>\n",
       "    .dataframe tbody tr th:only-of-type {\n",
       "        vertical-align: middle;\n",
       "    }\n",
       "\n",
       "    .dataframe tbody tr th {\n",
       "        vertical-align: top;\n",
       "    }\n",
       "\n",
       "    .dataframe thead th {\n",
       "        text-align: right;\n",
       "    }\n",
       "</style>\n",
       "<table border=\"1\" class=\"dataframe\">\n",
       "  <thead>\n",
       "    <tr style=\"text-align: right;\">\n",
       "      <th></th>\n",
       "      <th>0</th>\n",
       "      <th>target</th>\n",
       "    </tr>\n",
       "  </thead>\n",
       "  <tbody>\n",
       "    <tr>\n",
       "      <th>0</th>\n",
       "      <td>0.501776</td>\n",
       "      <td>0</td>\n",
       "    </tr>\n",
       "    <tr>\n",
       "      <th>1</th>\n",
       "      <td>0.501776</td>\n",
       "      <td>0</td>\n",
       "    </tr>\n",
       "    <tr>\n",
       "      <th>2</th>\n",
       "      <td>0.888889</td>\n",
       "      <td>0</td>\n",
       "    </tr>\n",
       "    <tr>\n",
       "      <th>3</th>\n",
       "      <td>0.507679</td>\n",
       "      <td>0</td>\n",
       "    </tr>\n",
       "    <tr>\n",
       "      <th>4</th>\n",
       "      <td>0.464441</td>\n",
       "      <td>0</td>\n",
       "    </tr>\n",
       "    <tr>\n",
       "      <th>...</th>\n",
       "      <td>...</td>\n",
       "      <td>...</td>\n",
       "    </tr>\n",
       "    <tr>\n",
       "      <th>68636</th>\n",
       "      <td>0.458171</td>\n",
       "      <td>0</td>\n",
       "    </tr>\n",
       "    <tr>\n",
       "      <th>68637</th>\n",
       "      <td>0.501776</td>\n",
       "      <td>0</td>\n",
       "    </tr>\n",
       "    <tr>\n",
       "      <th>68638</th>\n",
       "      <td>0.525162</td>\n",
       "      <td>0</td>\n",
       "    </tr>\n",
       "    <tr>\n",
       "      <th>68639</th>\n",
       "      <td>0.514719</td>\n",
       "      <td>0</td>\n",
       "    </tr>\n",
       "    <tr>\n",
       "      <th>68640</th>\n",
       "      <td>0.501776</td>\n",
       "      <td>0</td>\n",
       "    </tr>\n",
       "  </tbody>\n",
       "</table>\n",
       "<p>68641 rows × 2 columns</p>\n",
       "</div>"
      ],
      "text/plain": [
       "              0  target\n",
       "0      0.501776       0\n",
       "1      0.501776       0\n",
       "2      0.888889       0\n",
       "3      0.507679       0\n",
       "4      0.464441       0\n",
       "...         ...     ...\n",
       "68636  0.458171       0\n",
       "68637  0.501776       0\n",
       "68638  0.525162       0\n",
       "68639  0.514719       0\n",
       "68640  0.501776       0\n",
       "\n",
       "[68641 rows x 2 columns]"
      ]
     },
     "execution_count": 11,
     "metadata": {},
     "output_type": "execute_result"
    }
   ],
   "source": [
    "attack_dataset_ts = pd.DataFrame(pred_p_Tr)\n",
    "attack_dataset_ts['target'] = 0\n",
    "attack_dataset_ts"
   ]
  },
  {
   "cell_type": "code",
   "execution_count": 12,
   "id": "a7d37013-0c10-44f7-92a1-fb8b8debe067",
   "metadata": {},
   "outputs": [
    {
     "data": {
      "text/plain": [
       "0.5152067386787031"
      ]
     },
     "execution_count": 12,
     "metadata": {},
     "output_type": "execute_result"
    }
   ],
   "source": [
    "fpr, tpr, threshold = metrics.roc_curve(y_test, pred_p_Tr)\n",
    "roc_auc = metrics.auc(fpr, tpr)\n",
    "roc_auc"
   ]
  },
  {
   "cell_type": "code",
   "execution_count": 13,
   "id": "7f2ec097-28cb-4585-ba19-f68efb3ce917",
   "metadata": {},
   "outputs": [
    {
     "data": {
      "text/html": [
       "<div>\n",
       "<style scoped>\n",
       "    .dataframe tbody tr th:only-of-type {\n",
       "        vertical-align: middle;\n",
       "    }\n",
       "\n",
       "    .dataframe tbody tr th {\n",
       "        vertical-align: top;\n",
       "    }\n",
       "\n",
       "    .dataframe thead th {\n",
       "        text-align: right;\n",
       "    }\n",
       "</style>\n",
       "<table border=\"1\" class=\"dataframe\">\n",
       "  <thead>\n",
       "    <tr style=\"text-align: right;\">\n",
       "      <th></th>\n",
       "      <th>0</th>\n",
       "      <th>target</th>\n",
       "    </tr>\n",
       "  </thead>\n",
       "  <tbody>\n",
       "    <tr>\n",
       "      <th>0</th>\n",
       "      <td>0.464441</td>\n",
       "      <td>1</td>\n",
       "    </tr>\n",
       "    <tr>\n",
       "      <th>1</th>\n",
       "      <td>0.514719</td>\n",
       "      <td>1</td>\n",
       "    </tr>\n",
       "    <tr>\n",
       "      <th>2</th>\n",
       "      <td>0.501776</td>\n",
       "      <td>1</td>\n",
       "    </tr>\n",
       "    <tr>\n",
       "      <th>3</th>\n",
       "      <td>0.501776</td>\n",
       "      <td>1</td>\n",
       "    </tr>\n",
       "    <tr>\n",
       "      <th>4</th>\n",
       "      <td>0.458171</td>\n",
       "      <td>1</td>\n",
       "    </tr>\n",
       "    <tr>\n",
       "      <th>...</th>\n",
       "      <td>...</td>\n",
       "      <td>...</td>\n",
       "    </tr>\n",
       "    <tr>\n",
       "      <th>68636</th>\n",
       "      <td>0.458171</td>\n",
       "      <td>0</td>\n",
       "    </tr>\n",
       "    <tr>\n",
       "      <th>68637</th>\n",
       "      <td>0.501776</td>\n",
       "      <td>0</td>\n",
       "    </tr>\n",
       "    <tr>\n",
       "      <th>68638</th>\n",
       "      <td>0.525162</td>\n",
       "      <td>0</td>\n",
       "    </tr>\n",
       "    <tr>\n",
       "      <th>68639</th>\n",
       "      <td>0.514719</td>\n",
       "      <td>0</td>\n",
       "    </tr>\n",
       "    <tr>\n",
       "      <th>68640</th>\n",
       "      <td>0.501776</td>\n",
       "      <td>0</td>\n",
       "    </tr>\n",
       "  </tbody>\n",
       "</table>\n",
       "<p>137281 rows × 2 columns</p>\n",
       "</div>"
      ],
      "text/plain": [
       "              0  target\n",
       "0      0.464441       1\n",
       "1      0.514719       1\n",
       "2      0.501776       1\n",
       "3      0.501776       1\n",
       "4      0.458171       1\n",
       "...         ...     ...\n",
       "68636  0.458171       0\n",
       "68637  0.501776       0\n",
       "68638  0.525162       0\n",
       "68639  0.514719       0\n",
       "68640  0.501776       0\n",
       "\n",
       "[137281 rows x 2 columns]"
      ]
     },
     "execution_count": 13,
     "metadata": {},
     "output_type": "execute_result"
    }
   ],
   "source": [
    "attack_dataset = attack_dataset_tr.append(attack_dataset_ts)\n",
    "attack_dataset"
   ]
  },
  {
   "cell_type": "code",
   "execution_count": null,
   "id": "f3b89d10-47ba-4699-912d-c1ea5013db5f",
   "metadata": {},
   "outputs": [],
   "source": []
  },
  {
   "cell_type": "code",
   "execution_count": null,
   "id": "edceff3e-3fc9-4d45-92ed-6fc2b153ea7b",
   "metadata": {},
   "outputs": [],
   "source": []
  },
  {
   "cell_type": "code",
   "execution_count": null,
   "id": "84e232c9-c811-4647-8a39-034fb933d026",
   "metadata": {},
   "outputs": [],
   "source": []
  },
  {
   "cell_type": "code",
   "execution_count": null,
   "id": "79f2b6d3-25cf-4062-b12f-c0118b5b4f92",
   "metadata": {},
   "outputs": [],
   "source": []
  }
 ],
 "metadata": {
  "kernelspec": {
   "display_name": "Python 3 (ipykernel)",
   "language": "python",
   "name": "python3"
  },
  "language_info": {
   "codemirror_mode": {
    "name": "ipython",
    "version": 3
   },
   "file_extension": ".py",
   "mimetype": "text/x-python",
   "name": "python",
   "nbconvert_exporter": "python",
   "pygments_lexer": "ipython3",
   "version": "3.8.8"
  }
 },
 "nbformat": 4,
 "nbformat_minor": 5
}
